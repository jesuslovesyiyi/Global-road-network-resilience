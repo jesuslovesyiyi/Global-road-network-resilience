{
 "cells": [
  {
   "cell_type": "markdown",
   "metadata": {},
   "source": [
    "# Import Libraries"
   ]
  },
  {
   "cell_type": "code",
   "execution_count": 3,
   "metadata": {
    "ExecuteTime": {
     "end_time": "2021-09-06T01:07:22.640095Z",
     "start_time": "2021-09-06T01:07:21.504560Z"
    }
   },
   "outputs": [],
   "source": [
    "import os\n",
    "import sys\n",
    "from tqdm import tqdm\n",
    "import random\n",
    "import osmnx as ox\n",
    "import networkx as nx\n",
    "import pandas as pd\n",
    "import geopandas as gpd\n",
    "import numpy as np\n",
    "import shapely\n",
    "import pickle\n",
    "\n",
    "import shutil\n",
    "from matplotlib import pyplot as plt\n",
    "\n",
    "import warnings; warnings.simplefilter('ignore')\n",
    "\n",
    "pd.options.display.max_columns = None\n",
    "pd.options.display.max_rows = 30\n",
    "np.set_printoptions(threshold=sys.maxsize)"
   ]
  },
  {
   "cell_type": "markdown",
   "metadata": {},
   "source": [
    "## Extract road network dataset from OpenStreetMap (OSM)"
   ]
  },
  {
   "cell_type": "code",
   "execution_count": null,
   "metadata": {},
   "outputs": [],
   "source": [
    "# Define coordinate reference system: WGS84 - World Geodetic System 1984 used in GPS\n",
    "crs_lonlat = {'init': 'epsg:' + str(4326)}\n",
    "# Directory where the boundaries for networks (in shapefile format) are stored\n",
    "shapefile_bnd_dir = '/Users/yiyi/Library/CloudStorage/OneDrive-GeorgiaInstituteofTechnology(2)/Research/Global road network resilience/01_data/4229_bnd_convex'\n",
    "\n",
    "# Extract OSM network using the boundary shapefiles\n",
    "counter = 0\n",
    "for i, file in enumerate(os.listdir(shapefile_bnd_dir)):\n",
    "    if file[-4:] == '.shp':\n",
    "        bnd = gpd.read_file(shapefile_bnd_dir+file).to_crs(crs_lonlat)\n",
    "        net_id = bnd['Id'][0]\n",
    "        try:                 \n",
    "            G = ox.graph_from_polygon(bnd.geometry[0], network_type='drive_service')\n",
    "            counter += 1\n",
    "\n",
    "            with open('/05_WB/CityResilience/1_processed/raw_osmgraphs_drive_service_conv/g_raw_drive_conv_' + str(net_id) + '.pk', 'wb') as handle:\n",
    "                pickle.dump(G, handle, protocol=2)\n",
    "        except:\n",
    "            print(file)"
   ]
  },
  {
   "cell_type": "markdown",
   "metadata": {},
   "source": []
  },
  {
   "cell_type": "markdown",
   "metadata": {},
   "source": [
    "**Summarize network/graph properties:**\n",
    "Network properties include the following:\n",
    "- Number of nodes\n",
    "- Number of edges\n",
    "- Tertiary road lengths\n",
    "- Residential road lengths"
   ]
  }
 ],
 "metadata": {
  "kernelspec": {
   "display_name": "global_rd",
   "language": "python",
   "name": "python3"
  },
  "language_info": {
   "codemirror_mode": {
    "name": "ipython",
    "version": 3
   },
   "file_extension": ".py",
   "mimetype": "text/x-python",
   "name": "python",
   "nbconvert_exporter": "python",
   "pygments_lexer": "ipython3",
   "version": "3.12.9"
  },
  "toc": {
   "base_numbering": 1,
   "nav_menu": {},
   "number_sections": true,
   "sideBar": true,
   "skip_h1_title": false,
   "title_cell": "Table of Contents",
   "title_sidebar": "Contents",
   "toc_cell": true,
   "toc_position": {
    "height": "calc(100% - 180px)",
    "left": "10px",
    "top": "150px",
    "width": "165px"
   },
   "toc_section_display": true,
   "toc_window_display": true
  }
 },
 "nbformat": 4,
 "nbformat_minor": 4
}
